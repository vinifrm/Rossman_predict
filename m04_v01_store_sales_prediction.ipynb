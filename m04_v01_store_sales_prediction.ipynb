{
 "cells": [
  {
   "cell_type": "markdown",
   "metadata": {
    "heading_collapsed": true
   },
   "source": [
    "# RESUMO"
   ]
  },
  {
   "cell_type": "markdown",
   "metadata": {
    "heading_collapsed": true,
    "hidden": true
   },
   "source": [
    "## Sobre o projeto"
   ]
  },
  {
   "cell_type": "markdown",
   "metadata": {
    "hidden": true
   },
   "source": [
    "Previsão de vendas das próximas 6 semanas (42 dias).\n",
    "\n",
    "O formato de entrega será o valor total das vendas no final dessas 6 semanas (2 colunas: código da loja e valor total das vendas previsto) e com checagem pelo smartphone (verificação da loja desejada, seu valor de vendas e o comportamento das vendas durante essas 6 semanas)."
   ]
  },
  {
   "cell_type": "markdown",
   "metadata": {
    "heading_collapsed": true,
    "hidden": true
   },
   "source": [
    "## Dicionário dos dados"
   ]
  },
  {
   "cell_type": "markdown",
   "metadata": {
    "hidden": true
   },
   "source": [
    "Data fields\n",
    "Most of the fields are self-explanatory. The following are descriptions for those that aren't.\n",
    "\n",
    "* **Id** - an Id that represents a (Store, Date) duple within the test set\n",
    "* **Store** - a unique Id for each store\n",
    "* **Sales** - the turnover for any given day (this is what you are predicting)\n",
    "* **Customers** - the number of customers on a given day\n",
    "* **Open** - an indicator for whether the store was open: 0 = closed, 1 = open\n",
    "* **StateHoliday** - indicates a state holiday. Normally all stores, with few exceptions, are closed on state holidays. Note that all schools are closed on public holidays and weekends. a = public holiday, b = Easter holiday, c = Christmas, 0 = None\n",
    "* **SchoolHoliday** - indicates if the (Store, Date) was affected by the closure of public schools\n",
    "* **StoreType** - differentiates between 4 different store models: a, b, c, d\n",
    "* **Assortment** - describes an assortment level: a = basic, b = extra, c = extended\n",
    "* **CompetitionDistance** - distance in meters to the nearest competitor store\n",
    "* **CompetitionOpenSince[Month/Year]** - gives the approximate year and month of the time the nearest competitor was opened\n",
    "* **Promo** - indicates whether a store is running a promo on that day\n",
    "* **Promo2** - Promo2 is a continuing and consecutive promotion for some stores: 0 = store is not participating, 1 = store is participating\n",
    "* **Promo2Since[Year/Week]** - describes the year and calendar week when the store started participating in Promo2\n",
    "* **PromoInterval** - describes the consecutive intervals Promo2 is started, naming the months the promotion is started anew. E.g. \"Feb,May,Aug,Nov\" means each round starts in February, May, August, November of any given year for that store"
   ]
  },
  {
   "cell_type": "markdown",
   "metadata": {
    "heading_collapsed": true
   },
   "source": [
    "# IMPORTS"
   ]
  },
  {
   "cell_type": "code",
   "execution_count": 1,
   "metadata": {
    "hidden": true
   },
   "outputs": [],
   "source": [
    "# importações de pacotes\n",
    "import pandas as pd\n",
    "import numpy as np\n",
    "import datetime\n",
    "from math import isnan\n",
    "import inflection\n",
    "import seaborn as sns\n",
    "import matplotlib.pyplot as plt\n",
    "from IPython.display import Image\n",
    "\n",
    "import warnings\n",
    "warnings.filterwarnings('ignore')"
   ]
  },
  {
   "cell_type": "markdown",
   "metadata": {
    "heading_collapsed": true,
    "hidden": true
   },
   "source": [
    "## Carregamento dos dados"
   ]
  },
  {
   "cell_type": "code",
   "execution_count": 2,
   "metadata": {
    "hidden": true
   },
   "outputs": [],
   "source": [
    "# leitura dos dados\n",
    "# informações de vendas (train)\n",
    "# informações das lojas (store)\n",
    "df_sales_raw = pd.read_csv('data/train.csv', low_memory = False)\n",
    "df_store_raw = pd.read_csv('data/store.csv', low_memory = False)"
   ]
  },
  {
   "cell_type": "code",
   "execution_count": 3,
   "metadata": {
    "hidden": true
   },
   "outputs": [
    {
     "data": {
      "text/html": [
       "<div>\n",
       "<style scoped>\n",
       "    .dataframe tbody tr th:only-of-type {\n",
       "        vertical-align: middle;\n",
       "    }\n",
       "\n",
       "    .dataframe tbody tr th {\n",
       "        vertical-align: top;\n",
       "    }\n",
       "\n",
       "    .dataframe thead th {\n",
       "        text-align: right;\n",
       "    }\n",
       "</style>\n",
       "<table border=\"1\" class=\"dataframe\">\n",
       "  <thead>\n",
       "    <tr style=\"text-align: right;\">\n",
       "      <th></th>\n",
       "      <th>Store</th>\n",
       "      <th>DayOfWeek</th>\n",
       "      <th>Date</th>\n",
       "      <th>Sales</th>\n",
       "      <th>Customers</th>\n",
       "      <th>Open</th>\n",
       "      <th>Promo</th>\n",
       "      <th>StateHoliday</th>\n",
       "      <th>SchoolHoliday</th>\n",
       "    </tr>\n",
       "  </thead>\n",
       "  <tbody>\n",
       "    <tr>\n",
       "      <th>0</th>\n",
       "      <td>1</td>\n",
       "      <td>5</td>\n",
       "      <td>2015-07-31</td>\n",
       "      <td>5263</td>\n",
       "      <td>555</td>\n",
       "      <td>1</td>\n",
       "      <td>1</td>\n",
       "      <td>0</td>\n",
       "      <td>1</td>\n",
       "    </tr>\n",
       "    <tr>\n",
       "      <th>1</th>\n",
       "      <td>2</td>\n",
       "      <td>5</td>\n",
       "      <td>2015-07-31</td>\n",
       "      <td>6064</td>\n",
       "      <td>625</td>\n",
       "      <td>1</td>\n",
       "      <td>1</td>\n",
       "      <td>0</td>\n",
       "      <td>1</td>\n",
       "    </tr>\n",
       "    <tr>\n",
       "      <th>2</th>\n",
       "      <td>3</td>\n",
       "      <td>5</td>\n",
       "      <td>2015-07-31</td>\n",
       "      <td>8314</td>\n",
       "      <td>821</td>\n",
       "      <td>1</td>\n",
       "      <td>1</td>\n",
       "      <td>0</td>\n",
       "      <td>1</td>\n",
       "    </tr>\n",
       "    <tr>\n",
       "      <th>3</th>\n",
       "      <td>4</td>\n",
       "      <td>5</td>\n",
       "      <td>2015-07-31</td>\n",
       "      <td>13995</td>\n",
       "      <td>1498</td>\n",
       "      <td>1</td>\n",
       "      <td>1</td>\n",
       "      <td>0</td>\n",
       "      <td>1</td>\n",
       "    </tr>\n",
       "    <tr>\n",
       "      <th>4</th>\n",
       "      <td>5</td>\n",
       "      <td>5</td>\n",
       "      <td>2015-07-31</td>\n",
       "      <td>4822</td>\n",
       "      <td>559</td>\n",
       "      <td>1</td>\n",
       "      <td>1</td>\n",
       "      <td>0</td>\n",
       "      <td>1</td>\n",
       "    </tr>\n",
       "  </tbody>\n",
       "</table>\n",
       "</div>"
      ],
      "text/plain": [
       "   Store  DayOfWeek        Date  Sales  Customers  Open  Promo StateHoliday  \\\n",
       "0      1          5  2015-07-31   5263        555     1      1            0   \n",
       "1      2          5  2015-07-31   6064        625     1      1            0   \n",
       "2      3          5  2015-07-31   8314        821     1      1            0   \n",
       "3      4          5  2015-07-31  13995       1498     1      1            0   \n",
       "4      5          5  2015-07-31   4822        559     1      1            0   \n",
       "\n",
       "   SchoolHoliday  \n",
       "0              1  \n",
       "1              1  \n",
       "2              1  \n",
       "3              1  \n",
       "4              1  "
      ]
     },
     "execution_count": 3,
     "metadata": {},
     "output_type": "execute_result"
    }
   ],
   "source": [
    "df_sales_raw.head(5)"
   ]
  },
  {
   "cell_type": "code",
   "execution_count": 4,
   "metadata": {
    "hidden": true
   },
   "outputs": [
    {
     "data": {
      "text/html": [
       "<div>\n",
       "<style scoped>\n",
       "    .dataframe tbody tr th:only-of-type {\n",
       "        vertical-align: middle;\n",
       "    }\n",
       "\n",
       "    .dataframe tbody tr th {\n",
       "        vertical-align: top;\n",
       "    }\n",
       "\n",
       "    .dataframe thead th {\n",
       "        text-align: right;\n",
       "    }\n",
       "</style>\n",
       "<table border=\"1\" class=\"dataframe\">\n",
       "  <thead>\n",
       "    <tr style=\"text-align: right;\">\n",
       "      <th></th>\n",
       "      <th>Store</th>\n",
       "      <th>StoreType</th>\n",
       "      <th>Assortment</th>\n",
       "      <th>CompetitionDistance</th>\n",
       "      <th>CompetitionOpenSinceMonth</th>\n",
       "      <th>CompetitionOpenSinceYear</th>\n",
       "      <th>Promo2</th>\n",
       "      <th>Promo2SinceWeek</th>\n",
       "      <th>Promo2SinceYear</th>\n",
       "      <th>PromoInterval</th>\n",
       "    </tr>\n",
       "  </thead>\n",
       "  <tbody>\n",
       "    <tr>\n",
       "      <th>0</th>\n",
       "      <td>1</td>\n",
       "      <td>c</td>\n",
       "      <td>a</td>\n",
       "      <td>1270.0</td>\n",
       "      <td>9.0</td>\n",
       "      <td>2008.0</td>\n",
       "      <td>0</td>\n",
       "      <td>NaN</td>\n",
       "      <td>NaN</td>\n",
       "      <td>NaN</td>\n",
       "    </tr>\n",
       "    <tr>\n",
       "      <th>1</th>\n",
       "      <td>2</td>\n",
       "      <td>a</td>\n",
       "      <td>a</td>\n",
       "      <td>570.0</td>\n",
       "      <td>11.0</td>\n",
       "      <td>2007.0</td>\n",
       "      <td>1</td>\n",
       "      <td>13.0</td>\n",
       "      <td>2010.0</td>\n",
       "      <td>Jan,Apr,Jul,Oct</td>\n",
       "    </tr>\n",
       "    <tr>\n",
       "      <th>2</th>\n",
       "      <td>3</td>\n",
       "      <td>a</td>\n",
       "      <td>a</td>\n",
       "      <td>14130.0</td>\n",
       "      <td>12.0</td>\n",
       "      <td>2006.0</td>\n",
       "      <td>1</td>\n",
       "      <td>14.0</td>\n",
       "      <td>2011.0</td>\n",
       "      <td>Jan,Apr,Jul,Oct</td>\n",
       "    </tr>\n",
       "    <tr>\n",
       "      <th>3</th>\n",
       "      <td>4</td>\n",
       "      <td>c</td>\n",
       "      <td>c</td>\n",
       "      <td>620.0</td>\n",
       "      <td>9.0</td>\n",
       "      <td>2009.0</td>\n",
       "      <td>0</td>\n",
       "      <td>NaN</td>\n",
       "      <td>NaN</td>\n",
       "      <td>NaN</td>\n",
       "    </tr>\n",
       "    <tr>\n",
       "      <th>4</th>\n",
       "      <td>5</td>\n",
       "      <td>a</td>\n",
       "      <td>a</td>\n",
       "      <td>29910.0</td>\n",
       "      <td>4.0</td>\n",
       "      <td>2015.0</td>\n",
       "      <td>0</td>\n",
       "      <td>NaN</td>\n",
       "      <td>NaN</td>\n",
       "      <td>NaN</td>\n",
       "    </tr>\n",
       "  </tbody>\n",
       "</table>\n",
       "</div>"
      ],
      "text/plain": [
       "   Store StoreType Assortment  CompetitionDistance  CompetitionOpenSinceMonth  \\\n",
       "0      1         c          a               1270.0                        9.0   \n",
       "1      2         a          a                570.0                       11.0   \n",
       "2      3         a          a              14130.0                       12.0   \n",
       "3      4         c          c                620.0                        9.0   \n",
       "4      5         a          a              29910.0                        4.0   \n",
       "\n",
       "   CompetitionOpenSinceYear  Promo2  Promo2SinceWeek  Promo2SinceYear  \\\n",
       "0                    2008.0       0              NaN              NaN   \n",
       "1                    2007.0       1             13.0           2010.0   \n",
       "2                    2006.0       1             14.0           2011.0   \n",
       "3                    2009.0       0              NaN              NaN   \n",
       "4                    2015.0       0              NaN              NaN   \n",
       "\n",
       "     PromoInterval  \n",
       "0              NaN  \n",
       "1  Jan,Apr,Jul,Oct  \n",
       "2  Jan,Apr,Jul,Oct  \n",
       "3              NaN  \n",
       "4              NaN  "
      ]
     },
     "execution_count": 4,
     "metadata": {},
     "output_type": "execute_result"
    }
   ],
   "source": [
    "# head\n",
    "df_store_raw.head(5)"
   ]
  },
  {
   "cell_type": "code",
   "execution_count": 5,
   "metadata": {
    "hidden": true
   },
   "outputs": [],
   "source": [
    "# unir os 2 datasets (esquerda, coluna \"store\" de chave)\n",
    "df_raw = pd.merge(df_sales_raw, df_store_raw, how = 'left', on = 'Store')"
   ]
  },
  {
   "cell_type": "code",
   "execution_count": 6,
   "metadata": {
    "hidden": true
   },
   "outputs": [
    {
     "data": {
      "text/html": [
       "<div>\n",
       "<style scoped>\n",
       "    .dataframe tbody tr th:only-of-type {\n",
       "        vertical-align: middle;\n",
       "    }\n",
       "\n",
       "    .dataframe tbody tr th {\n",
       "        vertical-align: top;\n",
       "    }\n",
       "\n",
       "    .dataframe thead th {\n",
       "        text-align: right;\n",
       "    }\n",
       "</style>\n",
       "<table border=\"1\" class=\"dataframe\">\n",
       "  <thead>\n",
       "    <tr style=\"text-align: right;\">\n",
       "      <th></th>\n",
       "      <th>Store</th>\n",
       "      <th>DayOfWeek</th>\n",
       "      <th>Date</th>\n",
       "      <th>Sales</th>\n",
       "      <th>Customers</th>\n",
       "      <th>Open</th>\n",
       "      <th>Promo</th>\n",
       "      <th>StateHoliday</th>\n",
       "      <th>SchoolHoliday</th>\n",
       "      <th>StoreType</th>\n",
       "      <th>Assortment</th>\n",
       "      <th>CompetitionDistance</th>\n",
       "      <th>CompetitionOpenSinceMonth</th>\n",
       "      <th>CompetitionOpenSinceYear</th>\n",
       "      <th>Promo2</th>\n",
       "      <th>Promo2SinceWeek</th>\n",
       "      <th>Promo2SinceYear</th>\n",
       "      <th>PromoInterval</th>\n",
       "    </tr>\n",
       "  </thead>\n",
       "  <tbody>\n",
       "    <tr>\n",
       "      <th>0</th>\n",
       "      <td>1</td>\n",
       "      <td>5</td>\n",
       "      <td>2015-07-31</td>\n",
       "      <td>5263</td>\n",
       "      <td>555</td>\n",
       "      <td>1</td>\n",
       "      <td>1</td>\n",
       "      <td>0</td>\n",
       "      <td>1</td>\n",
       "      <td>c</td>\n",
       "      <td>a</td>\n",
       "      <td>1270.0</td>\n",
       "      <td>9.0</td>\n",
       "      <td>2008.0</td>\n",
       "      <td>0</td>\n",
       "      <td>NaN</td>\n",
       "      <td>NaN</td>\n",
       "      <td>NaN</td>\n",
       "    </tr>\n",
       "    <tr>\n",
       "      <th>1</th>\n",
       "      <td>2</td>\n",
       "      <td>5</td>\n",
       "      <td>2015-07-31</td>\n",
       "      <td>6064</td>\n",
       "      <td>625</td>\n",
       "      <td>1</td>\n",
       "      <td>1</td>\n",
       "      <td>0</td>\n",
       "      <td>1</td>\n",
       "      <td>a</td>\n",
       "      <td>a</td>\n",
       "      <td>570.0</td>\n",
       "      <td>11.0</td>\n",
       "      <td>2007.0</td>\n",
       "      <td>1</td>\n",
       "      <td>13.0</td>\n",
       "      <td>2010.0</td>\n",
       "      <td>Jan,Apr,Jul,Oct</td>\n",
       "    </tr>\n",
       "    <tr>\n",
       "      <th>2</th>\n",
       "      <td>3</td>\n",
       "      <td>5</td>\n",
       "      <td>2015-07-31</td>\n",
       "      <td>8314</td>\n",
       "      <td>821</td>\n",
       "      <td>1</td>\n",
       "      <td>1</td>\n",
       "      <td>0</td>\n",
       "      <td>1</td>\n",
       "      <td>a</td>\n",
       "      <td>a</td>\n",
       "      <td>14130.0</td>\n",
       "      <td>12.0</td>\n",
       "      <td>2006.0</td>\n",
       "      <td>1</td>\n",
       "      <td>14.0</td>\n",
       "      <td>2011.0</td>\n",
       "      <td>Jan,Apr,Jul,Oct</td>\n",
       "    </tr>\n",
       "    <tr>\n",
       "      <th>3</th>\n",
       "      <td>4</td>\n",
       "      <td>5</td>\n",
       "      <td>2015-07-31</td>\n",
       "      <td>13995</td>\n",
       "      <td>1498</td>\n",
       "      <td>1</td>\n",
       "      <td>1</td>\n",
       "      <td>0</td>\n",
       "      <td>1</td>\n",
       "      <td>c</td>\n",
       "      <td>c</td>\n",
       "      <td>620.0</td>\n",
       "      <td>9.0</td>\n",
       "      <td>2009.0</td>\n",
       "      <td>0</td>\n",
       "      <td>NaN</td>\n",
       "      <td>NaN</td>\n",
       "      <td>NaN</td>\n",
       "    </tr>\n",
       "    <tr>\n",
       "      <th>4</th>\n",
       "      <td>5</td>\n",
       "      <td>5</td>\n",
       "      <td>2015-07-31</td>\n",
       "      <td>4822</td>\n",
       "      <td>559</td>\n",
       "      <td>1</td>\n",
       "      <td>1</td>\n",
       "      <td>0</td>\n",
       "      <td>1</td>\n",
       "      <td>a</td>\n",
       "      <td>a</td>\n",
       "      <td>29910.0</td>\n",
       "      <td>4.0</td>\n",
       "      <td>2015.0</td>\n",
       "      <td>0</td>\n",
       "      <td>NaN</td>\n",
       "      <td>NaN</td>\n",
       "      <td>NaN</td>\n",
       "    </tr>\n",
       "  </tbody>\n",
       "</table>\n",
       "</div>"
      ],
      "text/plain": [
       "   Store  DayOfWeek        Date  Sales  Customers  Open  Promo StateHoliday  \\\n",
       "0      1          5  2015-07-31   5263        555     1      1            0   \n",
       "1      2          5  2015-07-31   6064        625     1      1            0   \n",
       "2      3          5  2015-07-31   8314        821     1      1            0   \n",
       "3      4          5  2015-07-31  13995       1498     1      1            0   \n",
       "4      5          5  2015-07-31   4822        559     1      1            0   \n",
       "\n",
       "   SchoolHoliday StoreType Assortment  CompetitionDistance  \\\n",
       "0              1         c          a               1270.0   \n",
       "1              1         a          a                570.0   \n",
       "2              1         a          a              14130.0   \n",
       "3              1         c          c                620.0   \n",
       "4              1         a          a              29910.0   \n",
       "\n",
       "   CompetitionOpenSinceMonth  CompetitionOpenSinceYear  Promo2  \\\n",
       "0                        9.0                    2008.0       0   \n",
       "1                       11.0                    2007.0       1   \n",
       "2                       12.0                    2006.0       1   \n",
       "3                        9.0                    2009.0       0   \n",
       "4                        4.0                    2015.0       0   \n",
       "\n",
       "   Promo2SinceWeek  Promo2SinceYear    PromoInterval  \n",
       "0              NaN              NaN              NaN  \n",
       "1             13.0           2010.0  Jan,Apr,Jul,Oct  \n",
       "2             14.0           2011.0  Jan,Apr,Jul,Oct  \n",
       "3              NaN              NaN              NaN  \n",
       "4              NaN              NaN              NaN  "
      ]
     },
     "execution_count": 6,
     "metadata": {},
     "output_type": "execute_result"
    }
   ],
   "source": [
    "df_raw.head(5)"
   ]
  },
  {
   "cell_type": "markdown",
   "metadata": {
    "heading_collapsed": true,
    "hidden": true
   },
   "source": [
    "## Funções auxiliares"
   ]
  },
  {
   "cell_type": "code",
   "execution_count": null,
   "metadata": {
    "hidden": true
   },
   "outputs": [],
   "source": []
  },
  {
   "cell_type": "markdown",
   "metadata": {
    "heading_collapsed": true
   },
   "source": [
    "# DESCRIÇÃO DOS DADOS"
   ]
  },
  {
   "cell_type": "markdown",
   "metadata": {
    "heading_collapsed": true,
    "hidden": true
   },
   "source": [
    "## Renomeando as colunas"
   ]
  },
  {
   "cell_type": "code",
   "execution_count": 7,
   "metadata": {
    "hidden": true
   },
   "outputs": [],
   "source": [
    "# criar cópia do df\n",
    "df1 = df_raw.copy()"
   ]
  },
  {
   "cell_type": "code",
   "execution_count": 8,
   "metadata": {
    "hidden": true
   },
   "outputs": [
    {
     "data": {
      "text/plain": [
       "Index(['Store', 'DayOfWeek', 'Date', 'Sales', 'Customers', 'Open', 'Promo',\n",
       "       'StateHoliday', 'SchoolHoliday', 'StoreType', 'Assortment',\n",
       "       'CompetitionDistance', 'CompetitionOpenSinceMonth',\n",
       "       'CompetitionOpenSinceYear', 'Promo2', 'Promo2SinceWeek',\n",
       "       'Promo2SinceYear', 'PromoInterval'],\n",
       "      dtype='object')"
      ]
     },
     "execution_count": 8,
     "metadata": {},
     "output_type": "execute_result"
    }
   ],
   "source": [
    "# verificar colunas e seus nomes\n",
    "df1.columns"
   ]
  },
  {
   "cell_type": "code",
   "execution_count": 9,
   "metadata": {
    "hidden": true
   },
   "outputs": [],
   "source": [
    "# criar lista com os nomes das colunas\n",
    "cols_atuais = df1.columns"
   ]
  },
  {
   "cell_type": "code",
   "execution_count": 10,
   "metadata": {
    "hidden": true
   },
   "outputs": [],
   "source": [
    "# criar função lambda \"snakecase\" para passar tudo para minuscula\n",
    "snakecase = lambda x: inflection.underscore(x)"
   ]
  },
  {
   "cell_type": "code",
   "execution_count": 11,
   "metadata": {
    "hidden": true
   },
   "outputs": [],
   "source": [
    "# utilizar map\n",
    "cols_novas = list(map(snakecase, cols_atuais))"
   ]
  },
  {
   "cell_type": "code",
   "execution_count": 12,
   "metadata": {
    "hidden": true
   },
   "outputs": [],
   "source": [
    "#renomear\n",
    "df1.columns = cols_novas"
   ]
  },
  {
   "cell_type": "markdown",
   "metadata": {
    "heading_collapsed": true,
    "hidden": true
   },
   "source": [
    "## Dimensão dos dados"
   ]
  },
  {
   "cell_type": "code",
   "execution_count": 13,
   "metadata": {
    "hidden": true
   },
   "outputs": [
    {
     "name": "stdout",
     "output_type": "stream",
     "text": [
      "Número de linhas: 1017209\n",
      "Número de colunas: 18\n"
     ]
    }
   ],
   "source": [
    "# número de linhas e colunas\n",
    "print(f'Número de linhas: {df1.shape[0]}')\n",
    "print(f'Número de colunas: {df1.shape[1]}')"
   ]
  },
  {
   "cell_type": "markdown",
   "metadata": {
    "heading_collapsed": true,
    "hidden": true
   },
   "source": [
    "## Tipos de dados e conversão de \"date\""
   ]
  },
  {
   "cell_type": "code",
   "execution_count": 14,
   "metadata": {
    "hidden": true
   },
   "outputs": [
    {
     "data": {
      "text/plain": [
       "store                             int64\n",
       "day_of_week                       int64\n",
       "date                             object\n",
       "sales                             int64\n",
       "customers                         int64\n",
       "open                              int64\n",
       "promo                             int64\n",
       "state_holiday                    object\n",
       "school_holiday                    int64\n",
       "store_type                       object\n",
       "assortment                       object\n",
       "competition_distance            float64\n",
       "competition_open_since_month    float64\n",
       "competition_open_since_year     float64\n",
       "promo2                            int64\n",
       "promo2_since_week               float64\n",
       "promo2_since_year               float64\n",
       "promo_interval                   object\n",
       "dtype: object"
      ]
     },
     "execution_count": 14,
     "metadata": {},
     "output_type": "execute_result"
    }
   ],
   "source": [
    "# tipos de dados\n",
    "df1.dtypes"
   ]
  },
  {
   "cell_type": "code",
   "execution_count": 15,
   "metadata": {
    "hidden": true
   },
   "outputs": [],
   "source": [
    "# converter \"date\" para o tipo \"date\"\n",
    "df1['date'] = pd.to_datetime(df1['date'])"
   ]
  },
  {
   "cell_type": "code",
   "execution_count": 16,
   "metadata": {
    "hidden": true
   },
   "outputs": [
    {
     "data": {
      "text/plain": [
       "store                                    int64\n",
       "day_of_week                              int64\n",
       "date                            datetime64[ns]\n",
       "sales                                    int64\n",
       "customers                                int64\n",
       "open                                     int64\n",
       "promo                                    int64\n",
       "state_holiday                           object\n",
       "school_holiday                           int64\n",
       "store_type                              object\n",
       "assortment                              object\n",
       "competition_distance                   float64\n",
       "competition_open_since_month           float64\n",
       "competition_open_since_year            float64\n",
       "promo2                                   int64\n",
       "promo2_since_week                      float64\n",
       "promo2_since_year                      float64\n",
       "promo_interval                          object\n",
       "dtype: object"
      ]
     },
     "execution_count": 16,
     "metadata": {},
     "output_type": "execute_result"
    }
   ],
   "source": [
    "# tipos de dados\n",
    "df1.dtypes"
   ]
  },
  {
   "cell_type": "markdown",
   "metadata": {
    "heading_collapsed": true,
    "hidden": true
   },
   "source": [
    "## Checagem de valores NA"
   ]
  },
  {
   "cell_type": "code",
   "execution_count": 17,
   "metadata": {
    "hidden": true
   },
   "outputs": [
    {
     "data": {
      "text/plain": [
       "store                                0\n",
       "day_of_week                          0\n",
       "date                                 0\n",
       "sales                                0\n",
       "customers                            0\n",
       "open                                 0\n",
       "promo                                0\n",
       "state_holiday                        0\n",
       "school_holiday                       0\n",
       "store_type                           0\n",
       "assortment                           0\n",
       "competition_distance              2642\n",
       "competition_open_since_month    323348\n",
       "competition_open_since_year     323348\n",
       "promo2                               0\n",
       "promo2_since_week               508031\n",
       "promo2_since_year               508031\n",
       "promo_interval                  508031\n",
       "dtype: int64"
      ]
     },
     "execution_count": 17,
     "metadata": {},
     "output_type": "execute_result"
    }
   ],
   "source": [
    "# somas das colunas que possuam pelo menos 1 valor NA\n",
    "df1.isna().sum()"
   ]
  },
  {
   "cell_type": "markdown",
   "metadata": {
    "heading_collapsed": true,
    "hidden": true
   },
   "source": [
    "## Preenchendo dados nulos"
   ]
  },
  {
   "cell_type": "code",
   "execution_count": 18,
   "metadata": {
    "hidden": true
   },
   "outputs": [],
   "source": [
    "#competition_distance              2642\n",
    "#competition_open_since_month    323348\n",
    "#competition_open_since_year     323348                               \n",
    "#promo2_since_week               508031\n",
    "#promo2_since_year               508031\n",
    "#promo_interval                  508031"
   ]
  },
  {
   "cell_type": "markdown",
   "metadata": {
    "hidden": true
   },
   "source": [
    "**competition_distance**: se há valor NA, provavelmente não há competidor mais próximo (não há competição).\n",
    "\n",
    "Uma solução seria preencher os campos nulos com valores muito mais altos do que o valor máximo da coluna, pois assim sinalizamos que não há competição."
   ]
  },
  {
   "cell_type": "code",
   "execution_count": 19,
   "metadata": {
    "hidden": true
   },
   "outputs": [
    {
     "data": {
      "text/plain": [
       "75860.0"
      ]
     },
     "execution_count": 19,
     "metadata": {},
     "output_type": "execute_result"
    }
   ],
   "source": [
    "# verificar valor máximo da coluna\n",
    "df1.competition_distance.max()"
   ]
  },
  {
   "cell_type": "code",
   "execution_count": 20,
   "metadata": {
    "hidden": true
   },
   "outputs": [],
   "source": [
    "# verificar com isnan se a linha da coluna definida \"é nula\"\n",
    "# caso a linha seja \"nula\", vamos preenche-la com o valor 2000000. Senão, retorna o valor da linha\n",
    "# usar lambda e apply e apenas na coluna\n",
    "df1['competition_distance'] = df1['competition_distance'].apply(lambda x: 200000 if isnan(x) else x)"
   ]
  },
  {
   "cell_type": "markdown",
   "metadata": {
    "hidden": true
   },
   "source": [
    "**competition_open_since_month**: talvez existam 2 razões para essa coluna estar vazia: não há competidor mais próximo, então não há data de abertura para ele, ou há competidor mais próximo e não se sabe quando abriu.\n",
    "\n",
    "Podemos preencher os valores NA extraindo o mês da própria linha (cada linha representa uma venda em uma data, em uma loja). Isso pode ser feito já pensando na etapa de feature engineering, pois há colunas que são importantes para mostrarem um comportamento ao longo do tempo (nesse caso, sobre a competição ao longo do tempo). \n",
    "\n",
    "A substituição acima será feita com o valor do mês da coluna \"date\"se o valor da coluna for nulo. Senão, será retornado o valor que já existe.\n",
    "\n",
    "Caso essa solução não funcione, podemos voltar e alterá-la (graças ao CRISP-DS)."
   ]
  },
  {
   "cell_type": "code",
   "execution_count": 21,
   "metadata": {
    "hidden": true
   },
   "outputs": [],
   "source": [
    "# aplicar apenas nas colunas\n",
    "# como serão utilizadas mais de uma coluna, precisamos especificar que será por colunas e utilizar o df com\n",
    "# a função apply\n",
    "df1['competition_open_since_month'] = df1.apply(lambda x: x['date'].month if isnan(x['competition_open_since_month']) else x['competition_open_since_month'], axis = 1)                                         "
   ]
  },
  {
   "cell_type": "markdown",
   "metadata": {
    "hidden": true
   },
   "source": [
    "**competition_open_since_year**: mesmo raciocínio acima"
   ]
  },
  {
   "cell_type": "code",
   "execution_count": 22,
   "metadata": {
    "hidden": true
   },
   "outputs": [],
   "source": [
    "df1['competition_open_since_year'] = df1.apply(lambda x: x['date'].year if isnan(x['competition_open_since_year']) else x['competition_open_since_year'], axis = 1)       "
   ]
  },
  {
   "cell_type": "markdown",
   "metadata": {
    "hidden": true
   },
   "source": [
    "**promo2_since_week** e **promo2_since_year**-> promo 2 é a continuação de uma promoção pra algumas lojas. Se for 0 ela não está participando e se for 1, está.\n",
    "\n",
    "Se o valor for NA, quer dizer que a loja decidiu não participar dessa promoção.\n",
    "\n",
    "Substituiremos o valor nulo pelo valor da semana daquela linha."
   ]
  },
  {
   "cell_type": "code",
   "execution_count": 23,
   "metadata": {
    "hidden": true
   },
   "outputs": [],
   "source": [
    "# mesmo raciocínio da coluna anterior\n",
    "# extrair week\n",
    "df1['promo2_since_week'] = df1.apply(lambda x: x['date'].week if isnan(x['promo2_since_week']) else x['promo2_since_week'], axis = 1)"
   ]
  },
  {
   "cell_type": "code",
   "execution_count": 24,
   "metadata": {
    "hidden": true
   },
   "outputs": [],
   "source": [
    "df1['promo2_since_year'] = df1.apply(lambda x: x['date'].year if isnan(x['promo2_since_year']) else x['promo2_since_year'], axis = 1)"
   ]
  },
  {
   "cell_type": "markdown",
   "metadata": {
    "hidden": true
   },
   "source": [
    "**promo_interval** -> meses em que a promoção 2 ficou ativa.\n",
    "\n",
    "Vamos criar uma coluna chamada \"month_map\" com o mês da venda (da linha)\n",
    "\n",
    "Se promo_interval for NA, vamos preencher com 0 (preencher diretamente na coluna). \n",
    "\n",
    "Faremos um split do valor da coluna e insetir em uma lista. Se o mês de month_map estiver dentro dessa lista, vamos criar uma coluna dizendo que a promoção 2 estava ativa."
   ]
  },
  {
   "cell_type": "code",
   "execution_count": 25,
   "metadata": {
    "hidden": true
   },
   "outputs": [],
   "source": [
    "# criar dicionário com os meses\n",
    "month_map = {1: 'Jan',\n",
    "2: 'Feb',\n",
    "3: 'Mar',\n",
    "4: 'Apr',\n",
    "5: 'May',\n",
    "6: 'Jun',\n",
    "7: 'Jul',\n",
    "8: 'Aug',\n",
    "9: 'Sep',\n",
    "10: 'Oct',\n",
    "11: 'Nov',\n",
    "12: 'Dec'}"
   ]
  },
  {
   "cell_type": "code",
   "execution_count": 26,
   "metadata": {
    "hidden": true
   },
   "outputs": [],
   "source": [
    "# preencher com 0 se for NA (fillna)\n",
    "df1['promo_interval'].fillna(0, inplace = True)"
   ]
  },
  {
   "cell_type": "code",
   "execution_count": 27,
   "metadata": {
    "hidden": true
   },
   "outputs": [
    {
     "data": {
      "text/plain": [
       "0          Jul\n",
       "1          Jul\n",
       "2          Jul\n",
       "3          Jul\n",
       "4          Jul\n",
       "          ... \n",
       "1017204    Jan\n",
       "1017205    Jan\n",
       "1017206    Jan\n",
       "1017207    Jan\n",
       "1017208    Jan\n",
       "Name: month_map, Length: 1017209, dtype: object"
      ]
     },
     "execution_count": 27,
     "metadata": {},
     "output_type": "execute_result"
    }
   ],
   "source": [
    "# criar coluna month_map(dicionário). Fazer com que ela receba o valor do mês da coluna date, mas esse mês\n",
    "# deve ser com o nome inserido no dicionário\n",
    "df1['month_map'] = df1['date'].dt.month.map(month_map)\n",
    "df1.month_map"
   ]
  },
  {
   "cell_type": "code",
   "execution_count": 28,
   "metadata": {
    "hidden": true
   },
   "outputs": [],
   "source": [
    "# verificar se o valor de month_map está dentro da lista criada:\n",
    "# criar coluna is_promo\n",
    "# recebe 1 se estiver; recebe 0 se não estiver\n",
    "# se promo_interval for == 0, retornamos 0 (a loja não está participando)\n",
    "# utilizar apenas as colunas promo_interval e month_map\n",
    "df1['is_promo'] = df1[['promo_interval', 'month_map']].apply(lambda x: 0 if x['promo_interval'] == 0 else 1 if x['month_map'] in x['promo_interval'].split(',') else 0, axis = 1)                                "
   ]
  },
  {
   "cell_type": "code",
   "execution_count": 29,
   "metadata": {
    "hidden": true
   },
   "outputs": [
    {
     "data": {
      "text/html": [
       "<div>\n",
       "<style scoped>\n",
       "    .dataframe tbody tr th:only-of-type {\n",
       "        vertical-align: middle;\n",
       "    }\n",
       "\n",
       "    .dataframe tbody tr th {\n",
       "        vertical-align: top;\n",
       "    }\n",
       "\n",
       "    .dataframe thead th {\n",
       "        text-align: right;\n",
       "    }\n",
       "</style>\n",
       "<table border=\"1\" class=\"dataframe\">\n",
       "  <thead>\n",
       "    <tr style=\"text-align: right;\">\n",
       "      <th></th>\n",
       "      <th>store</th>\n",
       "      <th>day_of_week</th>\n",
       "      <th>date</th>\n",
       "      <th>sales</th>\n",
       "      <th>customers</th>\n",
       "      <th>open</th>\n",
       "      <th>promo</th>\n",
       "      <th>state_holiday</th>\n",
       "      <th>school_holiday</th>\n",
       "      <th>store_type</th>\n",
       "      <th>assortment</th>\n",
       "      <th>competition_distance</th>\n",
       "      <th>competition_open_since_month</th>\n",
       "      <th>competition_open_since_year</th>\n",
       "      <th>promo2</th>\n",
       "      <th>promo2_since_week</th>\n",
       "      <th>promo2_since_year</th>\n",
       "      <th>promo_interval</th>\n",
       "      <th>month_map</th>\n",
       "      <th>is_promo</th>\n",
       "    </tr>\n",
       "  </thead>\n",
       "  <tbody>\n",
       "    <tr>\n",
       "      <th>0</th>\n",
       "      <td>1</td>\n",
       "      <td>5</td>\n",
       "      <td>2015-07-31</td>\n",
       "      <td>5263</td>\n",
       "      <td>555</td>\n",
       "      <td>1</td>\n",
       "      <td>1</td>\n",
       "      <td>0</td>\n",
       "      <td>1</td>\n",
       "      <td>c</td>\n",
       "      <td>a</td>\n",
       "      <td>1270.0</td>\n",
       "      <td>9.0</td>\n",
       "      <td>2008.0</td>\n",
       "      <td>0</td>\n",
       "      <td>31.0</td>\n",
       "      <td>2015.0</td>\n",
       "      <td>0</td>\n",
       "      <td>Jul</td>\n",
       "      <td>0</td>\n",
       "    </tr>\n",
       "    <tr>\n",
       "      <th>1</th>\n",
       "      <td>2</td>\n",
       "      <td>5</td>\n",
       "      <td>2015-07-31</td>\n",
       "      <td>6064</td>\n",
       "      <td>625</td>\n",
       "      <td>1</td>\n",
       "      <td>1</td>\n",
       "      <td>0</td>\n",
       "      <td>1</td>\n",
       "      <td>a</td>\n",
       "      <td>a</td>\n",
       "      <td>570.0</td>\n",
       "      <td>11.0</td>\n",
       "      <td>2007.0</td>\n",
       "      <td>1</td>\n",
       "      <td>13.0</td>\n",
       "      <td>2010.0</td>\n",
       "      <td>Jan,Apr,Jul,Oct</td>\n",
       "      <td>Jul</td>\n",
       "      <td>1</td>\n",
       "    </tr>\n",
       "    <tr>\n",
       "      <th>2</th>\n",
       "      <td>3</td>\n",
       "      <td>5</td>\n",
       "      <td>2015-07-31</td>\n",
       "      <td>8314</td>\n",
       "      <td>821</td>\n",
       "      <td>1</td>\n",
       "      <td>1</td>\n",
       "      <td>0</td>\n",
       "      <td>1</td>\n",
       "      <td>a</td>\n",
       "      <td>a</td>\n",
       "      <td>14130.0</td>\n",
       "      <td>12.0</td>\n",
       "      <td>2006.0</td>\n",
       "      <td>1</td>\n",
       "      <td>14.0</td>\n",
       "      <td>2011.0</td>\n",
       "      <td>Jan,Apr,Jul,Oct</td>\n",
       "      <td>Jul</td>\n",
       "      <td>1</td>\n",
       "    </tr>\n",
       "    <tr>\n",
       "      <th>3</th>\n",
       "      <td>4</td>\n",
       "      <td>5</td>\n",
       "      <td>2015-07-31</td>\n",
       "      <td>13995</td>\n",
       "      <td>1498</td>\n",
       "      <td>1</td>\n",
       "      <td>1</td>\n",
       "      <td>0</td>\n",
       "      <td>1</td>\n",
       "      <td>c</td>\n",
       "      <td>c</td>\n",
       "      <td>620.0</td>\n",
       "      <td>9.0</td>\n",
       "      <td>2009.0</td>\n",
       "      <td>0</td>\n",
       "      <td>31.0</td>\n",
       "      <td>2015.0</td>\n",
       "      <td>0</td>\n",
       "      <td>Jul</td>\n",
       "      <td>0</td>\n",
       "    </tr>\n",
       "    <tr>\n",
       "      <th>4</th>\n",
       "      <td>5</td>\n",
       "      <td>5</td>\n",
       "      <td>2015-07-31</td>\n",
       "      <td>4822</td>\n",
       "      <td>559</td>\n",
       "      <td>1</td>\n",
       "      <td>1</td>\n",
       "      <td>0</td>\n",
       "      <td>1</td>\n",
       "      <td>a</td>\n",
       "      <td>a</td>\n",
       "      <td>29910.0</td>\n",
       "      <td>4.0</td>\n",
       "      <td>2015.0</td>\n",
       "      <td>0</td>\n",
       "      <td>31.0</td>\n",
       "      <td>2015.0</td>\n",
       "      <td>0</td>\n",
       "      <td>Jul</td>\n",
       "      <td>0</td>\n",
       "    </tr>\n",
       "    <tr>\n",
       "      <th>5</th>\n",
       "      <td>6</td>\n",
       "      <td>5</td>\n",
       "      <td>2015-07-31</td>\n",
       "      <td>5651</td>\n",
       "      <td>589</td>\n",
       "      <td>1</td>\n",
       "      <td>1</td>\n",
       "      <td>0</td>\n",
       "      <td>1</td>\n",
       "      <td>a</td>\n",
       "      <td>a</td>\n",
       "      <td>310.0</td>\n",
       "      <td>12.0</td>\n",
       "      <td>2013.0</td>\n",
       "      <td>0</td>\n",
       "      <td>31.0</td>\n",
       "      <td>2015.0</td>\n",
       "      <td>0</td>\n",
       "      <td>Jul</td>\n",
       "      <td>0</td>\n",
       "    </tr>\n",
       "    <tr>\n",
       "      <th>6</th>\n",
       "      <td>7</td>\n",
       "      <td>5</td>\n",
       "      <td>2015-07-31</td>\n",
       "      <td>15344</td>\n",
       "      <td>1414</td>\n",
       "      <td>1</td>\n",
       "      <td>1</td>\n",
       "      <td>0</td>\n",
       "      <td>1</td>\n",
       "      <td>a</td>\n",
       "      <td>c</td>\n",
       "      <td>24000.0</td>\n",
       "      <td>4.0</td>\n",
       "      <td>2013.0</td>\n",
       "      <td>0</td>\n",
       "      <td>31.0</td>\n",
       "      <td>2015.0</td>\n",
       "      <td>0</td>\n",
       "      <td>Jul</td>\n",
       "      <td>0</td>\n",
       "    </tr>\n",
       "    <tr>\n",
       "      <th>7</th>\n",
       "      <td>8</td>\n",
       "      <td>5</td>\n",
       "      <td>2015-07-31</td>\n",
       "      <td>8492</td>\n",
       "      <td>833</td>\n",
       "      <td>1</td>\n",
       "      <td>1</td>\n",
       "      <td>0</td>\n",
       "      <td>1</td>\n",
       "      <td>a</td>\n",
       "      <td>a</td>\n",
       "      <td>7520.0</td>\n",
       "      <td>10.0</td>\n",
       "      <td>2014.0</td>\n",
       "      <td>0</td>\n",
       "      <td>31.0</td>\n",
       "      <td>2015.0</td>\n",
       "      <td>0</td>\n",
       "      <td>Jul</td>\n",
       "      <td>0</td>\n",
       "    </tr>\n",
       "    <tr>\n",
       "      <th>8</th>\n",
       "      <td>9</td>\n",
       "      <td>5</td>\n",
       "      <td>2015-07-31</td>\n",
       "      <td>8565</td>\n",
       "      <td>687</td>\n",
       "      <td>1</td>\n",
       "      <td>1</td>\n",
       "      <td>0</td>\n",
       "      <td>1</td>\n",
       "      <td>a</td>\n",
       "      <td>c</td>\n",
       "      <td>2030.0</td>\n",
       "      <td>8.0</td>\n",
       "      <td>2000.0</td>\n",
       "      <td>0</td>\n",
       "      <td>31.0</td>\n",
       "      <td>2015.0</td>\n",
       "      <td>0</td>\n",
       "      <td>Jul</td>\n",
       "      <td>0</td>\n",
       "    </tr>\n",
       "    <tr>\n",
       "      <th>9</th>\n",
       "      <td>10</td>\n",
       "      <td>5</td>\n",
       "      <td>2015-07-31</td>\n",
       "      <td>7185</td>\n",
       "      <td>681</td>\n",
       "      <td>1</td>\n",
       "      <td>1</td>\n",
       "      <td>0</td>\n",
       "      <td>1</td>\n",
       "      <td>a</td>\n",
       "      <td>a</td>\n",
       "      <td>3160.0</td>\n",
       "      <td>9.0</td>\n",
       "      <td>2009.0</td>\n",
       "      <td>0</td>\n",
       "      <td>31.0</td>\n",
       "      <td>2015.0</td>\n",
       "      <td>0</td>\n",
       "      <td>Jul</td>\n",
       "      <td>0</td>\n",
       "    </tr>\n",
       "  </tbody>\n",
       "</table>\n",
       "</div>"
      ],
      "text/plain": [
       "   store  day_of_week       date  sales  customers  open  promo state_holiday  \\\n",
       "0      1            5 2015-07-31   5263        555     1      1             0   \n",
       "1      2            5 2015-07-31   6064        625     1      1             0   \n",
       "2      3            5 2015-07-31   8314        821     1      1             0   \n",
       "3      4            5 2015-07-31  13995       1498     1      1             0   \n",
       "4      5            5 2015-07-31   4822        559     1      1             0   \n",
       "5      6            5 2015-07-31   5651        589     1      1             0   \n",
       "6      7            5 2015-07-31  15344       1414     1      1             0   \n",
       "7      8            5 2015-07-31   8492        833     1      1             0   \n",
       "8      9            5 2015-07-31   8565        687     1      1             0   \n",
       "9     10            5 2015-07-31   7185        681     1      1             0   \n",
       "\n",
       "   school_holiday store_type assortment  competition_distance  \\\n",
       "0               1          c          a                1270.0   \n",
       "1               1          a          a                 570.0   \n",
       "2               1          a          a               14130.0   \n",
       "3               1          c          c                 620.0   \n",
       "4               1          a          a               29910.0   \n",
       "5               1          a          a                 310.0   \n",
       "6               1          a          c               24000.0   \n",
       "7               1          a          a                7520.0   \n",
       "8               1          a          c                2030.0   \n",
       "9               1          a          a                3160.0   \n",
       "\n",
       "   competition_open_since_month  competition_open_since_year  promo2  \\\n",
       "0                           9.0                       2008.0       0   \n",
       "1                          11.0                       2007.0       1   \n",
       "2                          12.0                       2006.0       1   \n",
       "3                           9.0                       2009.0       0   \n",
       "4                           4.0                       2015.0       0   \n",
       "5                          12.0                       2013.0       0   \n",
       "6                           4.0                       2013.0       0   \n",
       "7                          10.0                       2014.0       0   \n",
       "8                           8.0                       2000.0       0   \n",
       "9                           9.0                       2009.0       0   \n",
       "\n",
       "   promo2_since_week  promo2_since_year   promo_interval month_map  is_promo  \n",
       "0               31.0             2015.0                0       Jul         0  \n",
       "1               13.0             2010.0  Jan,Apr,Jul,Oct       Jul         1  \n",
       "2               14.0             2011.0  Jan,Apr,Jul,Oct       Jul         1  \n",
       "3               31.0             2015.0                0       Jul         0  \n",
       "4               31.0             2015.0                0       Jul         0  \n",
       "5               31.0             2015.0                0       Jul         0  \n",
       "6               31.0             2015.0                0       Jul         0  \n",
       "7               31.0             2015.0                0       Jul         0  \n",
       "8               31.0             2015.0                0       Jul         0  \n",
       "9               31.0             2015.0                0       Jul         0  "
      ]
     },
     "execution_count": 29,
     "metadata": {},
     "output_type": "execute_result"
    }
   ],
   "source": [
    "df1.head(10)"
   ]
  },
  {
   "cell_type": "markdown",
   "metadata": {
    "heading_collapsed": true,
    "hidden": true
   },
   "source": [
    "## Alteração de tipos"
   ]
  },
  {
   "cell_type": "markdown",
   "metadata": {
    "hidden": true
   },
   "source": [
    "Pode ser que alguma das alterações que foram feitas anteriormente tenha mudado o tipo de algum dos dados. Vamos verificar e alterar, caso necessário."
   ]
  },
  {
   "cell_type": "code",
   "execution_count": 30,
   "metadata": {
    "hidden": true
   },
   "outputs": [
    {
     "data": {
      "text/plain": [
       "store                                    int64\n",
       "day_of_week                              int64\n",
       "date                            datetime64[ns]\n",
       "sales                                    int64\n",
       "customers                                int64\n",
       "open                                     int64\n",
       "promo                                    int64\n",
       "state_holiday                           object\n",
       "school_holiday                           int64\n",
       "store_type                              object\n",
       "assortment                              object\n",
       "competition_distance                   float64\n",
       "competition_open_since_month           float64\n",
       "competition_open_since_year            float64\n",
       "promo2                                   int64\n",
       "promo2_since_week                      float64\n",
       "promo2_since_year                      float64\n",
       "promo_interval                          object\n",
       "month_map                               object\n",
       "is_promo                                 int64\n",
       "dtype: object"
      ]
     },
     "execution_count": 30,
     "metadata": {},
     "output_type": "execute_result"
    }
   ],
   "source": [
    "# tipos\n",
    "df1.dtypes"
   ]
  },
  {
   "cell_type": "code",
   "execution_count": 31,
   "metadata": {
    "hidden": true
   },
   "outputs": [],
   "source": [
    "# competition_open_since_month para int\n",
    "df1['competition_open_since_month'] = df1['competition_open_since_month'].astype('int')"
   ]
  },
  {
   "cell_type": "code",
   "execution_count": 32,
   "metadata": {
    "hidden": true
   },
   "outputs": [],
   "source": [
    "# competition_open_since_year para int\n",
    "df1['competition_open_since_year'] = df1['competition_open_since_year'].astype('int')"
   ]
  },
  {
   "cell_type": "code",
   "execution_count": 33,
   "metadata": {
    "hidden": true
   },
   "outputs": [],
   "source": [
    "# promo week\n",
    "df1['promo2_since_week'] = df1['promo2_since_week'].astype('int')"
   ]
  },
  {
   "cell_type": "code",
   "execution_count": 34,
   "metadata": {
    "hidden": true
   },
   "outputs": [],
   "source": [
    "# promo year\n",
    "df1['promo2_since_year'] = df1['promo2_since_year'].astype('int')"
   ]
  },
  {
   "cell_type": "markdown",
   "metadata": {
    "heading_collapsed": true,
    "hidden": true
   },
   "source": [
    "## Estatística descritiva"
   ]
  },
  {
   "cell_type": "markdown",
   "metadata": {
    "hidden": true
   },
   "source": [
    "Essa etapa da análise dos dados pode nos ajudar a ganhar conhecimento do negócio.\n",
    "\n",
    "Também nessa etapa podemos verificar as métricas de estatística de primeira ordem: medidas de tendência central e medidas de dispersão."
   ]
  },
  {
   "cell_type": "markdown",
   "metadata": {
    "hidden": true
   },
   "source": [
    "* Medidas de tendência central ➔ média e mediana\n",
    "\n",
    "* Medidas de dispersão ➔ desvio padrão, mínimo, máximo, range, skew e kurtose"
   ]
  },
  {
   "cell_type": "markdown",
   "metadata": {
    "hidden": true
   },
   "source": [
    "Antes de verificarmos as estatísticas descritivas, precisamos separar as variáveis numéricas e categóricas no dataset."
   ]
  },
  {
   "cell_type": "code",
   "execution_count": 35,
   "metadata": {
    "hidden": true
   },
   "outputs": [],
   "source": [
    "# separando as variáveis\n",
    "# num_attributes(include) e cat_attributes (exclude)\n",
    "atributos_numericos = df1.select_dtypes(include = 'number')\n",
    "atributos_categoricos = df1.select_dtypes(exclude = ['number', 'datetime'])"
   ]
  },
  {
   "cell_type": "markdown",
   "metadata": {
    "heading_collapsed": true,
    "hidden": true
   },
   "source": [
    "### Estatísticas das variáveis numéricas"
   ]
  },
  {
   "cell_type": "code",
   "execution_count": 36,
   "metadata": {
    "hidden": true
   },
   "outputs": [],
   "source": [
    "# aplicar a média a todas as colunas e transformar em um df transposto\n",
    "# fazer a mesma coisa para mediana\n",
    "medias = pd.DataFrame(atributos_numericos.apply(np.mean)).T\n",
    "medianas = pd.DataFrame(atributos_numericos.apply(np.median)).T"
   ]
  },
  {
   "cell_type": "code",
   "execution_count": 37,
   "metadata": {
    "hidden": true
   },
   "outputs": [],
   "source": [
    "# aplicar as medidas de dispersão a todas as colunas e transformar cada uma em um df transposto\n",
    "# calcular o range manualmente?\n",
    "# lambda\n",
    "std = pd.DataFrame(atributos_numericos.apply(np.std)).T\n",
    "minimo = pd.DataFrame(atributos_numericos.apply(min)).T\n",
    "maximo = pd.DataFrame(atributos_numericos.apply(max)).T\n",
    "val_range = pd.DataFrame(atributos_numericos.apply(lambda x: x.max() - x.min())).T\n",
    "skew = pd.DataFrame(atributos_numericos.apply(lambda x: x.skew())).T\n",
    "kurtose = pd.DataFrame(atributos_numericos.apply(lambda x: x.kurtosis())).T"
   ]
  },
  {
   "cell_type": "code",
   "execution_count": 38,
   "metadata": {
    "hidden": true
   },
   "outputs": [],
   "source": [
    "# concatenar\n",
    "medidas_estatisticas = pd.concat([medias, medianas, std, minimo, maximo, val_range, skew, kurtose]).T.reset_index()"
   ]
  },
  {
   "cell_type": "code",
   "execution_count": 39,
   "metadata": {
    "hidden": true
   },
   "outputs": [],
   "source": [
    "# nomear as colunas\n",
    "medidas_estatisticas.columns = ['variaveis', 'media', 'mediana', 'desvio padrao', 'min', 'max', 'range', 'skew', \n",
    "                        'curtose']"
   ]
  },
  {
   "cell_type": "code",
   "execution_count": 40,
   "metadata": {
    "hidden": true
   },
   "outputs": [
    {
     "data": {
      "text/html": [
       "<div>\n",
       "<style scoped>\n",
       "    .dataframe tbody tr th:only-of-type {\n",
       "        vertical-align: middle;\n",
       "    }\n",
       "\n",
       "    .dataframe tbody tr th {\n",
       "        vertical-align: top;\n",
       "    }\n",
       "\n",
       "    .dataframe thead th {\n",
       "        text-align: right;\n",
       "    }\n",
       "</style>\n",
       "<table border=\"1\" class=\"dataframe\">\n",
       "  <thead>\n",
       "    <tr style=\"text-align: right;\">\n",
       "      <th></th>\n",
       "      <th>variaveis</th>\n",
       "      <th>media</th>\n",
       "      <th>mediana</th>\n",
       "      <th>desvio padrao</th>\n",
       "      <th>min</th>\n",
       "      <th>max</th>\n",
       "      <th>range</th>\n",
       "      <th>skew</th>\n",
       "      <th>curtose</th>\n",
       "    </tr>\n",
       "  </thead>\n",
       "  <tbody>\n",
       "    <tr>\n",
       "      <th>0</th>\n",
       "      <td>store</td>\n",
       "      <td>558.429727</td>\n",
       "      <td>558.0</td>\n",
       "      <td>321.908493</td>\n",
       "      <td>1.0</td>\n",
       "      <td>1115.0</td>\n",
       "      <td>1114.0</td>\n",
       "      <td>-0.000955</td>\n",
       "      <td>-1.200524</td>\n",
       "    </tr>\n",
       "    <tr>\n",
       "      <th>1</th>\n",
       "      <td>day_of_week</td>\n",
       "      <td>3.998341</td>\n",
       "      <td>4.0</td>\n",
       "      <td>1.997390</td>\n",
       "      <td>1.0</td>\n",
       "      <td>7.0</td>\n",
       "      <td>6.0</td>\n",
       "      <td>0.001593</td>\n",
       "      <td>-1.246873</td>\n",
       "    </tr>\n",
       "    <tr>\n",
       "      <th>2</th>\n",
       "      <td>sales</td>\n",
       "      <td>5773.818972</td>\n",
       "      <td>5744.0</td>\n",
       "      <td>3849.924283</td>\n",
       "      <td>0.0</td>\n",
       "      <td>41551.0</td>\n",
       "      <td>41551.0</td>\n",
       "      <td>0.641460</td>\n",
       "      <td>1.778375</td>\n",
       "    </tr>\n",
       "    <tr>\n",
       "      <th>3</th>\n",
       "      <td>customers</td>\n",
       "      <td>633.145946</td>\n",
       "      <td>609.0</td>\n",
       "      <td>464.411506</td>\n",
       "      <td>0.0</td>\n",
       "      <td>7388.0</td>\n",
       "      <td>7388.0</td>\n",
       "      <td>1.598650</td>\n",
       "      <td>7.091773</td>\n",
       "    </tr>\n",
       "    <tr>\n",
       "      <th>4</th>\n",
       "      <td>open</td>\n",
       "      <td>0.830107</td>\n",
       "      <td>1.0</td>\n",
       "      <td>0.375539</td>\n",
       "      <td>0.0</td>\n",
       "      <td>1.0</td>\n",
       "      <td>1.0</td>\n",
       "      <td>-1.758045</td>\n",
       "      <td>1.090723</td>\n",
       "    </tr>\n",
       "    <tr>\n",
       "      <th>5</th>\n",
       "      <td>promo</td>\n",
       "      <td>0.381515</td>\n",
       "      <td>0.0</td>\n",
       "      <td>0.485758</td>\n",
       "      <td>0.0</td>\n",
       "      <td>1.0</td>\n",
       "      <td>1.0</td>\n",
       "      <td>0.487838</td>\n",
       "      <td>-1.762018</td>\n",
       "    </tr>\n",
       "    <tr>\n",
       "      <th>6</th>\n",
       "      <td>school_holiday</td>\n",
       "      <td>0.178647</td>\n",
       "      <td>0.0</td>\n",
       "      <td>0.383056</td>\n",
       "      <td>0.0</td>\n",
       "      <td>1.0</td>\n",
       "      <td>1.0</td>\n",
       "      <td>1.677842</td>\n",
       "      <td>0.815154</td>\n",
       "    </tr>\n",
       "    <tr>\n",
       "      <th>7</th>\n",
       "      <td>competition_distance</td>\n",
       "      <td>5935.442677</td>\n",
       "      <td>2330.0</td>\n",
       "      <td>12547.646829</td>\n",
       "      <td>20.0</td>\n",
       "      <td>200000.0</td>\n",
       "      <td>199980.0</td>\n",
       "      <td>10.242344</td>\n",
       "      <td>147.789712</td>\n",
       "    </tr>\n",
       "    <tr>\n",
       "      <th>8</th>\n",
       "      <td>competition_open_since_month</td>\n",
       "      <td>6.786849</td>\n",
       "      <td>7.0</td>\n",
       "      <td>3.311085</td>\n",
       "      <td>1.0</td>\n",
       "      <td>12.0</td>\n",
       "      <td>11.0</td>\n",
       "      <td>-0.042076</td>\n",
       "      <td>-1.232607</td>\n",
       "    </tr>\n",
       "    <tr>\n",
       "      <th>9</th>\n",
       "      <td>competition_open_since_year</td>\n",
       "      <td>2010.324840</td>\n",
       "      <td>2012.0</td>\n",
       "      <td>5.515591</td>\n",
       "      <td>1900.0</td>\n",
       "      <td>2015.0</td>\n",
       "      <td>115.0</td>\n",
       "      <td>-7.235657</td>\n",
       "      <td>124.071304</td>\n",
       "    </tr>\n",
       "    <tr>\n",
       "      <th>10</th>\n",
       "      <td>promo2</td>\n",
       "      <td>0.500564</td>\n",
       "      <td>1.0</td>\n",
       "      <td>0.500000</td>\n",
       "      <td>0.0</td>\n",
       "      <td>1.0</td>\n",
       "      <td>1.0</td>\n",
       "      <td>-0.002255</td>\n",
       "      <td>-1.999999</td>\n",
       "    </tr>\n",
       "    <tr>\n",
       "      <th>11</th>\n",
       "      <td>promo2_since_week</td>\n",
       "      <td>23.619033</td>\n",
       "      <td>22.0</td>\n",
       "      <td>14.310057</td>\n",
       "      <td>1.0</td>\n",
       "      <td>52.0</td>\n",
       "      <td>51.0</td>\n",
       "      <td>0.178723</td>\n",
       "      <td>-1.184046</td>\n",
       "    </tr>\n",
       "    <tr>\n",
       "      <th>12</th>\n",
       "      <td>promo2_since_year</td>\n",
       "      <td>2012.793297</td>\n",
       "      <td>2013.0</td>\n",
       "      <td>1.662657</td>\n",
       "      <td>2009.0</td>\n",
       "      <td>2015.0</td>\n",
       "      <td>6.0</td>\n",
       "      <td>-0.784436</td>\n",
       "      <td>-0.210075</td>\n",
       "    </tr>\n",
       "    <tr>\n",
       "      <th>13</th>\n",
       "      <td>is_promo</td>\n",
       "      <td>0.165966</td>\n",
       "      <td>0.0</td>\n",
       "      <td>0.372050</td>\n",
       "      <td>0.0</td>\n",
       "      <td>1.0</td>\n",
       "      <td>1.0</td>\n",
       "      <td>1.795644</td>\n",
       "      <td>1.224338</td>\n",
       "    </tr>\n",
       "  </tbody>\n",
       "</table>\n",
       "</div>"
      ],
      "text/plain": [
       "                       variaveis        media  mediana  desvio padrao     min  \\\n",
       "0                          store   558.429727    558.0     321.908493     1.0   \n",
       "1                    day_of_week     3.998341      4.0       1.997390     1.0   \n",
       "2                          sales  5773.818972   5744.0    3849.924283     0.0   \n",
       "3                      customers   633.145946    609.0     464.411506     0.0   \n",
       "4                           open     0.830107      1.0       0.375539     0.0   \n",
       "5                          promo     0.381515      0.0       0.485758     0.0   \n",
       "6                 school_holiday     0.178647      0.0       0.383056     0.0   \n",
       "7           competition_distance  5935.442677   2330.0   12547.646829    20.0   \n",
       "8   competition_open_since_month     6.786849      7.0       3.311085     1.0   \n",
       "9    competition_open_since_year  2010.324840   2012.0       5.515591  1900.0   \n",
       "10                        promo2     0.500564      1.0       0.500000     0.0   \n",
       "11             promo2_since_week    23.619033     22.0      14.310057     1.0   \n",
       "12             promo2_since_year  2012.793297   2013.0       1.662657  2009.0   \n",
       "13                      is_promo     0.165966      0.0       0.372050     0.0   \n",
       "\n",
       "         max     range       skew     curtose  \n",
       "0     1115.0    1114.0  -0.000955   -1.200524  \n",
       "1        7.0       6.0   0.001593   -1.246873  \n",
       "2    41551.0   41551.0   0.641460    1.778375  \n",
       "3     7388.0    7388.0   1.598650    7.091773  \n",
       "4        1.0       1.0  -1.758045    1.090723  \n",
       "5        1.0       1.0   0.487838   -1.762018  \n",
       "6        1.0       1.0   1.677842    0.815154  \n",
       "7   200000.0  199980.0  10.242344  147.789712  \n",
       "8       12.0      11.0  -0.042076   -1.232607  \n",
       "9     2015.0     115.0  -7.235657  124.071304  \n",
       "10       1.0       1.0  -0.002255   -1.999999  \n",
       "11      52.0      51.0   0.178723   -1.184046  \n",
       "12    2015.0       6.0  -0.784436   -0.210075  \n",
       "13       1.0       1.0   1.795644    1.224338  "
      ]
     },
     "execution_count": 40,
     "metadata": {},
     "output_type": "execute_result"
    }
   ],
   "source": [
    "medidas_estatisticas"
   ]
  },
  {
   "cell_type": "code",
   "execution_count": 41,
   "metadata": {
    "hidden": true
   },
   "outputs": [
    {
     "data": {
      "text/plain": [
       "<AxesSubplot:xlabel='sales', ylabel='Density'>"
      ]
     },
     "execution_count": 41,
     "metadata": {},
     "output_type": "execute_result"
    },
    {
     "data": {
      "image/png": "[encoded data removed]",
      "text/plain": [
       "<Figure size 648x432 with 1 Axes>"
      ]
     },
     "metadata": {
      "needs_background": "light"
     },
     "output_type": "display_data"
    }
   ],
   "source": [
    "# plotar distribuição das vendas\n",
    "plt.figure(figsize = (9,6))\n",
    "sns.distplot(atributos_numericos['sales'])"
   ]
  },
  {
   "cell_type": "markdown",
   "metadata": {
    "hidden": true
   },
   "source": [
    "Acima percebemos uma skew positiva (deslocada um pouco para a esquerda) e uma distribuição próxima de uma normal."
   ]
  },
  {
   "cell_type": "code",
   "execution_count": 42,
   "metadata": {
    "hidden": true
   },
   "outputs": [
    {
     "data": {
      "text/plain": [
       "<AxesSubplot:xlabel='competition_distance', ylabel='Density'>"
      ]
     },
     "execution_count": 42,
     "metadata": {},
     "output_type": "execute_result"
    },
    {
     "data": {
      "image/png": "[encoded data removed]",
      "text/plain": [
       "<Figure size 648x432 with 1 Axes>"
      ]
     },
     "metadata": {
      "needs_background": "light"
     },
     "output_type": "display_data"
    }
   ],
   "source": [
    "# plotar distribuição de competition_distance\n",
    "plt.figure(figsize = (9,6))\n",
    "sns.distplot(atributos_numericos['competition_distance'])"
   ]
  },
  {
   "cell_type": "markdown",
   "metadata": {
    "hidden": true
   },
   "source": [
    "Parece ser uma distribuição poisson. Isso indica que os competidores estão próximos, com distância próxima de 0. Isso é indicado pela skew muito positiva. \n",
    "\n",
    "Como os valores estão muito concentrados, temos uma kurtose muito alta."
   ]
  },
  {
   "cell_type": "markdown",
   "metadata": {
    "heading_collapsed": true,
    "hidden": true
   },
   "source": [
    "### Estatísticas das variáveis categóricas"
   ]
  },
  {
   "cell_type": "code",
   "execution_count": 43,
   "metadata": {
    "hidden": true
   },
   "outputs": [
    {
     "data": {
      "text/plain": [
       "state_holiday      4\n",
       "store_type         4\n",
       "assortment         3\n",
       "promo_interval     4\n",
       "month_map         12\n",
       "dtype: int64"
      ]
     },
     "execution_count": 43,
     "metadata": {},
     "output_type": "execute_result"
    }
   ],
   "source": [
    "# verificar quantos níveis cada coluna categórica possui\n",
    "atributos_categoricos.apply(lambda x: x.unique().shape[0])"
   ]
  },
  {
   "cell_type": "code",
   "execution_count": 44,
   "metadata": {
    "hidden": true
   },
   "outputs": [
    {
     "data": {
      "text/plain": [
       "array(['0', 'a', 'b', 'c'], dtype=object)"
      ]
     },
     "execution_count": 44,
     "metadata": {},
     "output_type": "execute_result"
    }
   ],
   "source": [
    "# ver valores de state_holiday\n",
    "atributos_categoricos['state_holiday'].unique()"
   ]
  },
  {
   "cell_type": "code",
   "execution_count": 45,
   "metadata": {
    "hidden": true
   },
   "outputs": [
    {
     "data": {
      "image/png": "[encoded data removed]",
      "text/plain": [
       "<Figure size 432x288 with 1 Axes>"
      ]
     },
     "metadata": {
      "needs_background": "light"
     },
     "output_type": "display_data"
    }
   ],
   "source": [
    "# boxplot vendas de acordo com o feriado estadual (df1)\n",
    "sns.boxplot(data = df1,  x = 'state_holiday', y = 'sales');"
   ]
  },
  {
   "cell_type": "markdown",
   "metadata": {
    "hidden": true
   },
   "source": [
    "O gráfico acima não nos mostra muita coisa, pois há dias com as lojas fechadas, dias com poucas vendas e dias com vendas altas. Isso gera um range muito alto. \n",
    "\n",
    "Podemos então filtrar esses números:"
   ]
  },
  {
   "cell_type": "code",
   "execution_count": 46,
   "metadata": {
    "hidden": true
   },
   "outputs": [
    {
     "data": {
      "image/png": "[encoded data removed]",
      "text/plain": [
       "<Figure size 432x288 with 1 Axes>"
      ]
     },
     "metadata": {
      "needs_background": "light"
     },
     "output_type": "display_data"
    }
   ],
   "source": [
    "# State_holiday != 0(0 representa loja fechada?) e sales > 0\n",
    "vendas_state_holiday = df1[(df1['state_holiday'] != '0') & (df1['sales'] > 0)]\n",
    "sns.boxplot(data = vendas_state_holiday,  x = 'state_holiday', y = 'sales');"
   ]
  },
  {
   "cell_type": "code",
   "execution_count": 47,
   "metadata": {
    "hidden": true
   },
   "outputs": [
    {
     "data": {
      "text/plain": [
       "<AxesSubplot:xlabel='assortment', ylabel='sales'>"
      ]
     },
     "execution_count": 47,
     "metadata": {},
     "output_type": "execute_result"
    },
    {
     "data": {
      "image/png": "[encoded data removed]",
      "text/plain": [
       "<Figure size 1512x720 with 3 Axes>"
      ]
     },
     "metadata": {
      "needs_background": "light"
     },
     "output_type": "display_data"
    }
   ],
   "source": [
    "# fazer subplots com store's e assortment\n",
    "plt.figure(figsize = (21,10))\n",
    "\n",
    "plt.subplot(1,3,1)\n",
    "sns.boxplot(data = vendas_state_holiday,  x = 'state_holiday', y = 'sales')\n",
    "\n",
    "plt.subplot(1,3,2)\n",
    "sns.boxplot(data = vendas_state_holiday,  x = 'store_type', y = 'sales')\n",
    "\n",
    "plt.subplot(1,3,3)\n",
    "sns.boxplot(data = vendas_state_holiday,  x = 'assortment', y = 'sales')"
   ]
  },
  {
   "cell_type": "code",
   "execution_count": 48,
   "metadata": {
    "hidden": true
   },
   "outputs": [],
   "source": [
    "# explicar outliers (3x o desvio padrão)"
   ]
  },
  {
   "cell_type": "markdown",
   "metadata": {
    "heading_collapsed": true
   },
   "source": [
    "# FEATURE ENGINEERING"
   ]
  },
  {
   "cell_type": "markdown",
   "metadata": {
    "heading_collapsed": true,
    "hidden": true
   },
   "source": [
    "## Mapa Mental de Hipóteses"
   ]
  },
  {
   "cell_type": "markdown",
   "metadata": {
    "hidden": true
   },
   "source": [
    "Vamos construir um mapa mental para nos ajudar a extrair hipóteses para serem validades na análise exploratória de dados."
   ]
  },
  {
   "cell_type": "code",
   "execution_count": 49,
   "metadata": {
    "hidden": true
   },
   "outputs": [
    {
     "data": {
      "image/png": "[encoded data removed]",
      "text/plain": [
       "<IPython.core.display.Image object>"
      ]
     },
     "execution_count": 49,
     "metadata": {},
     "output_type": "execute_result"
    }
   ],
   "source": [
    "Image('img/MindMapHypothesis.png')"
   ]
  },
  {
   "cell_type": "markdown",
   "metadata": {
    "hidden": true
   },
   "source": [
    "No mapa mental temos 3 elementos:\n",
    "\n",
    "* o **Fenômeno** a ser estudado (Ex: as vendas a serem preditas);\n",
    "* os **agentes** ou **entidades** que, possivelmente, podem impactar o fenômeno(Ex: as lojas); e\n",
    "* os **atributos**, que descrevem cada uma das entidades (Ex: porte da loja, marketing dos produtos, etc.).\n",
    "\n",
    "Para validar uma hipótese, podemos tentar relacionar um atributo de uma entidade com o fenômeno, podendo esse atributo (variável) influenciar no aumento ou na diminuição da resposta (variável target ou variável resposta). Deve ser lembrado o fato de que essa correlação não implica em uma relação de causa e efeito."
   ]
  },
  {
   "cell_type": "markdown",
   "metadata": {
    "heading_collapsed": true,
    "hidden": true
   },
   "source": [
    "#### Criação das hipóteses"
   ]
  },
  {
   "cell_type": "markdown",
   "metadata": {
    "hidden": true
   },
   "source": [
    "Serão usadas 3 entidades para formulação das hipóteses:"
   ]
  },
  {
   "cell_type": "markdown",
   "metadata": {
    "heading_collapsed": true,
    "hidden": true
   },
   "source": [
    "#### Hipóteses Loja"
   ]
  },
  {
   "cell_type": "markdown",
   "metadata": {
    "hidden": true
   },
   "source": [
    "**1 ➜** Lojas com maior quadro de funcionários deveriam vender mais.\n",
    "\n",
    "**2 ➜** Lojas com maior estoque deveriam vender mais.\n",
    "\n",
    "**3 ➜** Lojas com maior porte deveriam vender mais.\n",
    "\n",
    "**4 ➜** Lojas com maior sortimento deveriam vender mais.\n",
    "\n",
    "**5 ➜** Lojas com competidores mais próximos deveriam vender menos."
   ]
  },
  {
   "cell_type": "markdown",
   "metadata": {
    "heading_collapsed": true,
    "hidden": true
   },
   "source": [
    "#### Hipóteses Produto"
   ]
  },
  {
   "cell_type": "markdown",
   "metadata": {
    "hidden": true
   },
   "source": [
    "**1 ➜** Lojas que investem mais em marketing deveriam vender mais.\n",
    "\n",
    "**2 ➜** Lojas que expoem mais os produtos nas vitrines deveriam vender mais. \n",
    "\n",
    "**3 ➜** Lojas que possuem preços menores nos produtos deveriam vender mais.\n",
    "\n",
    "**4 ➜** Lojas que tem preços menores nos produtos por mais tempo deveriam vender mais.\n",
    "\n",
    "**5 ➜** Lojas com mais dias de promoção deveriam vender mais.\n",
    "\n",
    "**6 ➜** Lojas com promoções ativas por mais tempo deveriam vender mais. \n",
    "\n",
    "**7 ➜** Lojas com mais promoções consecutivas deveriam vender mais."
   ]
  },
  {
   "cell_type": "markdown",
   "metadata": {
    "heading_collapsed": true,
    "hidden": true
   },
   "source": [
    "#### Hipóteses Tempo (Sazonalidade)"
   ]
  },
  {
   "cell_type": "markdown",
   "metadata": {
    "hidden": true
   },
   "source": [
    "**1 ➜** Lojas cabertas no feriado de Natal deveriam vender mais.\n",
    "\n",
    "**2 ➜** Lojas deveriam vender mais ao longo dos anos. \n",
    "\n",
    "**3 ➜** Lojas deveriam vender mais no segundo semestre do ano. \n",
    "\n",
    "**4 ➜** Lojas deveriam vender mais a partir do dia 10 de cada mês. \n",
    "\n",
    "**5 ➜** Lojas deveriam vender menos nos finais de semana. \n",
    "\n",
    "**6 ➜** Lojas deveriam vender menos nos feriados escolares."
   ]
  },
  {
   "cell_type": "markdown",
   "metadata": {
    "hidden": true
   },
   "source": [
    "Depois da criação das hipóteses, devemos priorizar algumas delas para que sejam validadas."
   ]
  },
  {
   "cell_type": "markdown",
   "metadata": {
    "heading_collapsed": true,
    "hidden": true
   },
   "source": [
    "#### Lista final de hipóteses"
   ]
  },
  {
   "cell_type": "markdown",
   "metadata": {
    "hidden": true
   },
   "source": [
    "Aqui o critério pode ser o seguinte: temos os dados necessários para validar essa hipóteses disponíveis no dataset? Caso a resposta seja sim, essa hipótese entrará na lista final."
   ]
  },
  {
   "cell_type": "markdown",
   "metadata": {
    "hidden": true
   },
   "source": [
    "**1 ➜** Lojas com maior sortimento deveriam vender mais.\n",
    "\n",
    "**2 ➜** Lojas com competidores mais próximos deveriam vender menos.\n",
    "\n",
    "**3 ➜** Lojas com competidores há mais tempo deveriam vender mais.\n",
    "\n",
    "**4 ➜** Lojas com mais dias de promoção deveriam vender mais.\n",
    "\n",
    "**5 ➜** Lojas com promoções ativas por mais tempo deveriam vender mais. \n",
    "\n",
    "**6 ➜** Lojas com mais promoções consecutivas deveriam vender mais.\n",
    "\n",
    "**7 ➜** Lojas cabertas no feriado de Natal deveriam vender mais.\n",
    "\n",
    "**8 ➜** Lojas deveriam vender mais ao longo dos anos. \n",
    "\n",
    "**9 ➜** Lojas deveriam vender mais no segundo semestre do ano. \n",
    "\n",
    "**10 ➜** Lojas deveriam vender mais a partir do dia 10 de cada mês. \n",
    "\n",
    "**11 ➜** Lojas deveriam vender menos nos finais de semana. \n",
    "\n",
    "**12 ➜** Lojas deveriam vender menos nos feriados escolares."
   ]
  },
  {
   "cell_type": "markdown",
   "metadata": {
    "heading_collapsed": true,
    "hidden": true
   },
   "source": [
    "## Feature Engineering"
   ]
  },
  {
   "cell_type": "markdown",
   "metadata": {
    "hidden": true
   },
   "source": [
    "Vamos derivar as variáveis nessa seção."
   ]
  },
  {
   "cell_type": "code",
   "execution_count": 50,
   "metadata": {
    "hidden": true
   },
   "outputs": [],
   "source": [
    "# fazer cópia do dataset para df2\n",
    "df2 = df1.copy()"
   ]
  },
  {
   "cell_type": "code",
   "execution_count": 51,
   "metadata": {
    "hidden": true
   },
   "outputs": [],
   "source": [
    "# year\n",
    "df2['year'] = df2['date'].dt.year\n",
    "# month\n",
    "df2['month'] = df2['date'].dt.month\n",
    "# day\n",
    "df2['day'] = df2['date'].dt.day\n",
    "# week of year\n",
    "df2['week_of_year'] = df2['date'].dt.weekofyear\n",
    "# year week\n",
    "df2['year_week'] = df2['date'].dt.strftime('%Y-%W')"
   ]
  },
  {
   "cell_type": "code",
   "execution_count": 52,
   "metadata": {
    "hidden": true
   },
   "outputs": [],
   "source": [
    "# competition since -> vai dizer o tempo entre a data da compra (agora) e a data do inicio da competição\n",
    "# terá ano, mês e dia\n",
    "# precisamos extrair o mês e o ano do início da competição. O dia será 1\n",
    "# usar datetime.datetime, lambda e apply \n",
    "# extrair o tempo, em dias, entre a data da venda e o início da promoção usando lambda e days.Converter int\n",
    "# o parâmetro \"axis\" deve ser definido na função \"apply\", pois vamos utilizar mais de uma coluna\n",
    "df2['competition_since'] = df2.apply(lambda x: datetime.datetime(year = x['competition_open_since_year'], \n",
    "                                             month = x['competition_open_since_month'], day = 1), axis = 1)\n",
    "\n",
    "# calculando o número de dias (dividir por 30)\n",
    "df2['competition_time_month'] = ((df2['date'] - df2['competition_since']) / 30).apply(lambda x: x.days).astype('int')"
   ]
  },
  {
   "cell_type": "code",
   "execution_count": 53,
   "metadata": {
    "hidden": true
   },
   "outputs": [],
   "source": [
    "# promo since para promo_time_week -> tempo de promoção ativa, em semanas\n",
    "# Esse caso é um pouco complicado, pois temos promo2_since_year e promo2_since_week. \n",
    "# concatenar as 2 variáveis\n",
    "\n",
    "df2['promo_since'] = df2['promo2_since_year'].astype(str) + '-' + df2['promo2_since_week'].astype(str)\n",
    "\n",
    "df2['promo_since'] = df2['promo_since'].apply(lambda x: datetime.datetime.strptime(x + '-1', \n",
    "                                                                                   '%Y-%W-%w') - datetime.timedelta(days = 7))\n",
    "\n",
    "df2['promo_time_week'] = ((df2['date'] - df2['promo_since']) / 7 ).apply(lambda x: x.days).astype('int')"
   ]
  },
  {
   "cell_type": "code",
   "execution_count": 54,
   "metadata": {
    "hidden": true
   },
   "outputs": [],
   "source": [
    "# assortment\n",
    "# colocar os assortments que as letras representam\n",
    "# usar lambda\n",
    "# substituir dentro da própria variável\n",
    "# a = basic, b = extra, c = extended\n",
    "\n",
    "df2['assortment'] = df2['assortment'].apply(lambda x: 'basic' if x == 'a' else 'extra' if x == 'b' else 'extended')"
   ]
  },
  {
   "cell_type": "code",
   "execution_count": 55,
   "metadata": {
    "hidden": true
   },
   "outputs": [],
   "source": [
    "# state_holiday\n",
    "# mesmo raciocínio de assortment\n",
    "# caso não seja de algum dos feriados, retornar \"regular_holiday\"\n",
    "# substituir dentro da própria variável\n",
    "# a = public holiday, b = Easter holiday, c = Christmas, 0 = None\n",
    "\n",
    "df2['state_holiday'] = df2['state_holiday'].apply(lambda x: 'public holiday' if x == 'a' else 'Easter holiday' if x == 'b' else 'Christmas' if x == 'c' else 'regular day')                               "
   ]
  },
  {
   "cell_type": "markdown",
   "metadata": {},
   "source": [
    "# FILTRAGEM DE VARIÁVEIS"
   ]
  },
  {
   "cell_type": "markdown",
   "metadata": {},
   "source": [
    "A filtragem de variáveis pode ser feita pensando nas restrições de negócio."
   ]
  },
  {
   "cell_type": "markdown",
   "metadata": {},
   "source": [
    "O conceito de Filtragem de variáveis é diferente de Seleção de variáveis. \n",
    "\n",
    "Filtragem de variáveis filtragem de variáveis pode ser feita pensando antecipadamente nas restrições de negócio. Por exemplo, se poderemos usar ou não uma variável específica no momento do deploy do modelo.\n",
    "\n",
    "Seleção de variáveis visa encontrar as variáveis mais relevantes para o modelo, verificando as correlações das variáveis independentes com a variável target e entre as próprias variáveis independentes."
   ]
  },
  {
   "cell_type": "markdown",
   "metadata": {},
   "source": [
    "Vamos começar fazendo a filtragem das linhas e depois a seleção das colunas."
   ]
  },
  {
   "cell_type": "code",
   "execution_count": 56,
   "metadata": {},
   "outputs": [],
   "source": [
    "# cópia do dataset par df3\n",
    "df3 = df2.copy()"
   ]
  },
  {
   "cell_type": "markdown",
   "metadata": {},
   "source": [
    "## Filtragem das linhas"
   ]
  },
  {
   "cell_type": "markdown",
   "metadata": {},
   "source": [
    "* A coluna **\"open\"** diz se a loja está aberta ou não. Contudo, nos dias em que a loja está fechada temos 0 vendas. Sendo assim, não temos aprendizado nenhum com essa coluna e não queremos as linhas onde seu valor é 0.\n",
    "\n",
    "* A coluna **\"sales\"** nos mostra o número de vendas. As linhas com vendas == 0 não nos interessam."
   ]
  },
  {
   "cell_type": "code",
   "execution_count": 57,
   "metadata": {},
   "outputs": [],
   "source": [
    "# open != 0\n",
    "# sales > 0\n",
    "# salvar no próprio df3\n",
    "df3 = df3[(df3['open'] != 0) & (df3['sales'] > 0)]"
   ]
  },
  {
   "cell_type": "markdown",
   "metadata": {},
   "source": [
    "## Seleção das colunas"
   ]
  },
  {
   "cell_type": "markdown",
   "metadata": {},
   "source": [
    "* A coluna **\"customers\"**, caso seja utilizada, será necessária no momento da predição das vendas. Contudo, não será possível, inicialmente, saber o número de clientes durante as próximas 6 semanas. Para isso, teríamos que fazer um projeto separado para predição de quantos clientes passariam pelas lojas nesse período e utilizar essa predição como input. Essa não é nossa intenção!\n",
    "\n",
    "* Após a exclusão das linhas onde a coluna **\"open\"** possui o valor 0, restou apenas o valor 1 em cada uma de suas linhas. Sendo assim, não há necessidade de manter essa coluna.\n",
    "\n",
    "* A coluna **\"promo_interval\"** foi criada apenas para derivar is_promo e a coluna **\"month_map\"** também foi criada apenas como auxiliar."
   ]
  },
  {
   "cell_type": "code",
   "execution_count": 58,
   "metadata": {},
   "outputs": [],
   "source": [
    "# dropar 'customers', 'open', 'promo_interval' e 'month_map'\n",
    "# salvar dentro de df3\n",
    "cols_drop = ['customers', 'open', 'promo_interval', 'month_map']\n",
    "df3.drop(cols_drop, axis = 1, inplace = True)"
   ]
  },
  {
   "cell_type": "markdown",
   "metadata": {},
   "source": [
    "# ANÁLISE EXPLORATÓRIA DE DADOS"
   ]
  },
  {
   "cell_type": "markdown",
   "metadata": {},
   "source": [
    "Podemos verificar através dessa etapa como as variáveis impactam o fenômeno/variável target (vendas) e qual é a força desse impacto. Seus objetivos são:\n",
    "\n",
    "1 ➜ Ganhar experiência de negócio\n",
    "\n",
    "2 ➜ Validar hipóteses de negócio (insights)\n",
    "\n",
    "3 ➜ Perceber variáveis que são importantes para o modelo."
   ]
  },
  {
   "cell_type": "markdown",
   "metadata": {},
   "source": [
    "A Análise Exploratória de dados possui 3 tipos:\n",
    "\n",
    "1 ➜ **Análise Univariada**, onde procuramos conhecer o comportamento de uma variável\n",
    "\n",
    "2 ➜ **Análise Bivariada**, onde tentamos responder a pergunta: como uma variável impacta na target/resposta? (correlação, validação de hipóteses, etc.)\n",
    "\n",
    "3 ➜ **Análise Multivariada**, aqui olhamos mais de uma variável e seu impacto na variável target/resposta e também entre elas mesmas."
   ]
  },
  {
   "cell_type": "code",
   "execution_count": 59,
   "metadata": {},
   "outputs": [],
   "source": [
    "# cópia do dataset para df4"
   ]
  },
  {
   "cell_type": "markdown",
   "metadata": {},
   "source": [
    "## Análise Univariada"
   ]
  },
  {
   "cell_type": "markdown",
   "metadata": {},
   "source": [
    "### Análise da variável target/resposta"
   ]
  },
  {
   "cell_type": "code",
   "execution_count": 60,
   "metadata": {},
   "outputs": [],
   "source": [
    "# plotar distribuição de sales"
   ]
  },
  {
   "cell_type": "markdown",
   "metadata": {},
   "source": [
    "Distribuição próxima de uma normal;\n",
    "Possui skew positiva;\n",
    "Possui Curtose."
   ]
  },
  {
   "cell_type": "markdown",
   "metadata": {},
   "source": [
    "### Análise de variáveis numéricas"
   ]
  },
  {
   "cell_type": "code",
   "execution_count": 61,
   "metadata": {},
   "outputs": [],
   "source": [
    "# histograma das variáveis numéricas (25 bins)"
   ]
  },
  {
   "cell_type": "markdown",
   "metadata": {},
   "source": [
    "Um exemplo de observação interessante nos gráficos acima é em relação a coluna \"day_of_week\", pois, independentemente do dia da semana, as vendas parecem ser iguais. Essa variável provavelmente não trará nada relevante para o modelo."
   ]
  },
  {
   "cell_type": "markdown",
   "metadata": {},
   "source": [
    "### Análise de variáveis categóricas"
   ]
  },
  {
   "cell_type": "code",
   "execution_count": null,
   "metadata": {},
   "outputs": [],
   "source": [
    "# head"
   ]
  },
  {
   "cell_type": "code",
   "execution_count": 62,
   "metadata": {},
   "outputs": [],
   "source": [
    "# drop_duplicate ou unique das categóricas"
   ]
  },
  {
   "cell_type": "code",
   "execution_count": 71,
   "metadata": {},
   "outputs": [],
   "source": [
    "\n",
    "\n",
    "# filtrar != de dia normal e plotar um countplot (subplot)\n",
    "\n",
    "# kdeplot das vendas em state_holiday (subplot)\n",
    "# o parâmetro shade insere deixa mais transparente os gráficos sobrepostos\n",
    "# fazer o mesmo para as outras 3\n",
    "\n",
    "# mesmo raciocínio acima, agora para store_type e assortment\n",
    "# 3 linhas, 2 colunas"
   ]
  },
  {
   "cell_type": "code",
   "execution_count": 69,
   "metadata": {},
   "outputs": [],
   "source": []
  },
  {
   "cell_type": "code",
   "execution_count": null,
   "metadata": {},
   "outputs": [],
   "source": []
  }
 ],
 "metadata": {
  "kernelspec": {
   "display_name": "Python 3",
   "language": "python",
   "name": "python3"
  },
  "language_info": {
   "codemirror_mode": {
    "name": "ipython",
    "version": 3
   },
   "file_extension": ".py",
   "mimetype": "text/x-python",
   "name": "python",
   "nbconvert_exporter": "python",
   "pygments_lexer": "ipython3",
   "version": "3.8.5"
  }
 },
 "nbformat": 4,
 "nbformat_minor": 4
}
